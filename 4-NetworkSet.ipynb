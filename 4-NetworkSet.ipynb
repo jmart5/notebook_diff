{
 "cells": [
  {
   "cell_type": "markdown",
   "metadata": {
    "slideshow": {
     "slide_type": "slide"
    }
   },
   "source": [
    "Sample Jupyter notebook found at https://github.com/scikit-rf/scikit-rf_workshop/blob/master/Short_Course/4-NetworkSet.ipynb\n",
    "\n",
    "# Dealing with set of Networks with `NetworkSet`\n",
    "\n",
    "* The `NetworkSet` object represents an unordered  set of networks.\n",
    "* It provides  methods for:\n",
    " * iterating and slicing the set,\n",
    " * sorting by date/time or by other parameters, \n",
    " * calculating statistical quantities, \n",
    " * interpolating between Networks,\n",
    " * displaying uncertainty bounds on plots. \n",
    "\n"
   ]
  },
  {
   "cell_type": "code",
   "execution_count": 2,
   "metadata": {
    "slideshow": {
     "slide_type": "-"
    }
   },
   "outputs": [
    {
     "ename": "ModuleNotFoundError",
     "evalue": "No module named 'skrf'",
     "output_type": "error",
     "traceback": [
      "\u001b[0;31m---------------------------------------------------------------------------\u001b[0m",
      "\u001b[0;31mModuleNotFoundError\u001b[0m                       Traceback (most recent call last)",
      "Cell \u001b[0;32mIn[2], line 3\u001b[0m\n\u001b[1;32m      1\u001b[0m \u001b[38;5;28;01mimport\u001b[39;00m \u001b[38;5;21;01mos\u001b[39;00m\n\u001b[0;32m----> 3\u001b[0m \u001b[38;5;28;01mimport\u001b[39;00m \u001b[38;5;21;01mskrf\u001b[39;00m \u001b[38;5;28;01mas\u001b[39;00m \u001b[38;5;21;01mrf\u001b[39;00m\n\u001b[1;32m      4\u001b[0m rf\u001b[38;5;241m.\u001b[39mstylely()\n",
      "\u001b[0;31mModuleNotFoundError\u001b[0m: No module named 'skrf'"
     ]
    }
   ],
   "source": [
    "import os\n",
    "\n",
    "import skrf as rf\n",
    "rf.stylely()"
   ]
  },
  {
   "cell_type": "markdown",
   "metadata": {
    "slideshow": {
     "slide_type": "slide"
    }
   },
   "source": [
    "## Creating a `NetworkSet`\n",
    "Lets take a look in the `data/` folder, there are some redundant measurements of a network called `ro`,  which is a *radiating open* waveguide."
   ]
  },
  {
   "cell_type": "markdown",
   "metadata": {
    "slideshow": {
     "slide_type": "-"
    }
   },
   "source": [
    "```\n",
    "ls data/ro*\n",
    "\n",
    "-a----       14/02/2021     12:35           8031 ro,1.s1p\n",
    "-a----       14/02/2021     12:35           8030 ro,2.s1p\n",
    "-a----       14/02/2021     12:35           8031 ro,3.s1p\n",
    "```"
   ]
  },
  {
   "cell_type": "markdown",
   "metadata": {
    "raw_mimetype": "text/markdown",
    "slideshow": {
     "slide_type": "-"
    }
   },
   "source": [
    "The files `ro,1.s1p` , `ro,2.s1p`, ...  are redundant measurements on which we would like to calculate statistics using the `NetworkSet`class."
   ]
  },
  {
   "cell_type": "markdown",
   "metadata": {
    "slideshow": {
     "slide_type": "subslide"
    }
   },
   "source": [
    "A `NetworkSet` can be created from a a list or a dict of `Network`'s:\n",
    "\n",
    "* A dictionnary of `Network` of these three measurements can be created quickly with `rf.read_all()`.\n",
    "\n",
    "* The argument `contains` is used to load only files which match a given substring:"
   ]
  },
  {
   "cell_type": "code",
   "execution_count": null,
   "metadata": {
    "slideshow": {
     "slide_type": "-"
    }
   },
   "outputs": [],
   "source": [
    "rf.read_all(rf.data.pwd, contains='ro')"
   ]
  },
  {
   "cell_type": "markdown",
   "metadata": {
    "slideshow": {
     "slide_type": "fragment"
    }
   },
   "source": [
    "This can be passed directly to the NetworkSet constructor: "
   ]
  },
  {
   "cell_type": "code",
   "execution_count": null,
   "metadata": {
    "slideshow": {
     "slide_type": "-"
    }
   },
   "outputs": [],
   "source": [
    "ro_dict = rf.read_all(rf.data.pwd, contains='ro')\n",
    "ro_ns = rf.NetworkSet(ro_dict, name='ro set') \n",
    "print(ro_ns)"
   ]
  },
  {
   "cell_type": "markdown",
   "metadata": {
    "slideshow": {
     "slide_type": "subslide"
    }
   },
   "source": [
    "A NetworkSet can also be constructed directly from:\n",
    " - a directory containing Touchstone files: `NetworkSet.from_dir()`,\n",
    " - a zipfile of touchstones files: `NetworkSet.from_zip()`, \n",
    " - a dictionnary of s-parameters: `NetworkSet.from_s_dict()`,\n",
    " - a (G)MDIF (.mdf) file: `NetworkSet.from_mdif()`,\n",
    " - a CITI (.cti) file: `NetworkSet.from_citi()`. "
   ]
  },
  {
   "cell_type": "markdown",
   "metadata": {
    "slideshow": {
     "slide_type": "slide"
    }
   },
   "source": [
    "## Accessing Network Methods \n",
    "The `Network` elements in a `NetworkSet` can be accessed like the elements of list, "
   ]
  },
  {
   "cell_type": "code",
   "execution_count": null,
   "metadata": {
    "slideshow": {
     "slide_type": "-"
    }
   },
   "outputs": [],
   "source": [
    "ro_ns[0]"
   ]
  },
  {
   "cell_type": "markdown",
   "metadata": {
    "slideshow": {
     "slide_type": "subslide"
    }
   },
   "source": [
    "Most `Network` methods are also methods of `NetworkSet`. \n",
    "* These methods are called on each `Network` element individually. \n",
    "\n",
    "* For example to plot the log-magnitude of the s-parameters of each Network:"
   ]
  },
  {
   "cell_type": "code",
   "execution_count": null,
   "metadata": {
    "slideshow": {
     "slide_type": "-"
    }
   },
   "outputs": [],
   "source": [
    "ro_ns.plot_s_db()"
   ]
  },
  {
   "cell_type": "markdown",
   "metadata": {
    "slideshow": {
     "slide_type": "slide"
    }
   },
   "source": [
    "## Statistical Properties\n",
    "\n",
    "\n",
    "Statistical quantities can be calculated by accessing \n",
    "properties of the NetworkSet. To calculate the complex \n",
    "average of the set, access the `mean_s` property"
   ]
  },
  {
   "cell_type": "code",
   "execution_count": 1,
   "metadata": {
    "slideshow": {
     "slide_type": "-"
    }
   },
   "outputs": [
    {
     "ename": "NameError",
     "evalue": "name 'ro_ns' is not defined",
     "output_type": "error",
     "traceback": [
      "\u001b[0;31m---------------------------------------------------------------------------\u001b[0m",
      "\u001b[0;31mNameError\u001b[0m                                 Traceback (most recent call last)",
      "Cell \u001b[0;32mIn[1], line 1\u001b[0m\n\u001b[0;32m----> 1\u001b[0m ro_avg \u001b[38;5;241m=\u001b[39m \u001b[43mro_ns\u001b[49m\u001b[38;5;241m.\u001b[39mmean_s  \u001b[38;5;66;03m# returns a new Network\u001b[39;00m\n\u001b[1;32m      2\u001b[0m ro_avg\u001b[38;5;241m.\u001b[39ms\n",
      "\u001b[0;31mNameError\u001b[0m: name 'ro_ns' is not defined"
     ]
    }
   ],
   "source": [
    "ro_avg = ro_ns.mean_s  # returns a new Network\n",
    "ro_avg.s"
   ]
  },
  {
   "cell_type": "markdown",
   "metadata": {
    "slideshow": {
     "slide_type": "subslide"
    }
   },
   "source": [
    "The naming convention of the statistical operator properties are `NetworkSet.{function}_{parameter}`, where `function` is the name of the statistical function, and `parameter` is the Network parameter to operate on."
   ]
  },
  {
   "cell_type": "code",
   "execution_count": null,
   "metadata": {
    "slideshow": {
     "slide_type": "-"
    }
   },
   "outputs": [],
   "source": [
    "ro_ns # .<TAB>"
   ]
  },
  {
   "cell_type": "markdown",
   "metadata": {
    "slideshow": {
     "slide_type": "subslide"
    }
   },
   "source": [
    "These methods return a `Network` object, so they can be saved or plotted in the same way as you would with a Network.\n",
    "\n",
    "### Example\n",
    "To plot the log-magnitude of the complex mean response:"
   ]
  },
  {
   "cell_type": "code",
   "execution_count": null,
   "metadata": {
    "slideshow": {
     "slide_type": "-"
    }
   },
   "outputs": [],
   "source": [
    "ro_ns.mean_s.plot_s_db(label='ro')"
   ]
  },
  {
   "cell_type": "markdown",
   "metadata": {
    "slideshow": {
     "slide_type": "subslide"
    }
   },
   "source": [
    "Or to plot the standard deviation of the complex s-parameters,"
   ]
  },
  {
   "cell_type": "code",
   "execution_count": null,
   "metadata": {
    "slideshow": {
     "slide_type": "-"
    }
   },
   "outputs": [],
   "source": [
    "ro_ns.std_s.plot_s_re(y_label='Standard Deviations')"
   ]
  },
  {
   "cell_type": "markdown",
   "metadata": {
    "slideshow": {
     "slide_type": "subslide"
    }
   },
   "source": [
    "Using these properties it is possible to calculate statistical quantities on the scalar components of the complex network parameters. \n",
    "\n",
    "To calculate the mean of the phase component:"
   ]
  },
  {
   "cell_type": "code",
   "execution_count": null,
   "metadata": {
    "slideshow": {
     "slide_type": "-"
    }
   },
   "outputs": [],
   "source": [
    "ro_ns.mean_s_deg.plot_s_re()    "
   ]
  },
  {
   "cell_type": "markdown",
   "metadata": {
    "slideshow": {
     "slide_type": "slide"
    }
   },
   "source": [
    "## Plotting Uncertainty Bounds\n",
    "\n",
    "Uncertainty bounds can be plotted through the convenient methods "
   ]
  },
  {
   "cell_type": "code",
   "execution_count": null,
   "metadata": {
    "slideshow": {
     "slide_type": "-"
    }
   },
   "outputs": [],
   "source": [
    "ro_ns.plot_uncertainty_bounds_s_db()"
   ]
  },
  {
   "cell_type": "code",
   "execution_count": null,
   "metadata": {
    "slideshow": {
     "slide_type": "subslide"
    }
   },
   "outputs": [],
   "source": [
    "ro_ns.plot_uncertainty_bounds_s_deg()"
   ]
  },
  {
   "cell_type": "markdown",
   "metadata": {
    "slideshow": {
     "slide_type": "slide"
    }
   },
   "source": [
    "\n",
    "## Reading and Writing"
   ]
  },
  {
   "cell_type": "markdown",
   "metadata": {
    "slideshow": {
     "slide_type": "-"
    }
   },
   "source": [
    "To write all Networks of a `NetworkSet` out to individual touchstones,"
   ]
  },
  {
   "cell_type": "code",
   "execution_count": null,
   "metadata": {
    "slideshow": {
     "slide_type": "-"
    }
   },
   "outputs": [],
   "source": [
    "ro_ns.write_touchstone(dir='data/')"
   ]
  },
  {
   "cell_type": "markdown",
   "metadata": {
    "slideshow": {
     "slide_type": "slide"
    }
   },
   "source": [
    "## Export to Excel, csv, or html"
   ]
  },
  {
   "cell_type": "markdown",
   "metadata": {
    "slideshow": {
     "slide_type": "-"
    }
   },
   "source": [
    "`NetworkSet` can also be exported to other file types. \n",
    "\n",
    "The format of the output; real/imag, mag/phase is adjustable, as is the output type; csv, excel, html. \n",
    "\n",
    "For example to export mag/phase for each network into an Excel spreadsheet for your boss:"
   ]
  },
  {
   "cell_type": "code",
   "execution_count": null,
   "metadata": {
    "slideshow": {
     "slide_type": "-"
    }
   },
   "outputs": [],
   "source": [
    "ro_ns.write_spreadsheet('data/ro_spreadsheet.xls', form='db')"
   ]
  },
  {
   "cell_type": "markdown",
   "metadata": {
    "slideshow": {
     "slide_type": "-"
    }
   },
   "source": [
    "More info on this can be found in the function, `skrf.io.general.network_2_spreadsheet()`"
   ]
  },
  {
   "cell_type": "markdown",
   "metadata": {
    "slideshow": {
     "slide_type": "slide"
    }
   },
   "source": [
    "## Named Parameters\n",
    "If all the `Network` objects of a `NetworkSet` have a `params` property containing a dictionnary of the named parameters and values associated to each Network, it is possible to select the Networks corresponding to a subset of named parameters using the `.sel()` method. \n",
    "\n",
    "The following example illustrates this feature."
   ]
  },
  {
   "cell_type": "code",
   "execution_count": null,
   "metadata": {
    "slideshow": {
     "slide_type": "-"
    }
   },
   "outputs": [],
   "source": [
    "import numpy as np\n",
    "\n",
    "# dummy named parameters and values 'a', 'X' and 'c' \n",
    "params = [\n",
    "        {'a':0, 'X':12, 'c':'A'},\n",
    "        {'a':1, 'X':60, 'c':'A'},\n",
    "        {'a':2, 'X':48, 'c':'A'},\n",
    "        {'a':1, 'X':20, 'c':'A'},\n",
    "        {'a':0, 'X':20, 'c':'A'},\n",
    "        ]\n",
    "# create a NetworkSet made of dummy Networks, each defined for a set of parameters \n",
    "freq1 = rf.Frequency(75, 110, 101, 'ghz')\n",
    "ntwks_params = [rf.Network(frequency=freq1, s=np.random.rand(len(freq1),2,2), \n",
    "                           name=f'ntwk_{m}', comment=f'ntwk_{m}', params=params)\n",
    "                                for (m, params) in enumerate(params) ]     \n",
    "ns = rf.NetworkSet(ntwks_params)\n",
    "print(ns)\n",
    "\n",
    "fruits = [\"apple\", \"banana\", \"cherry\"]\n",
    "for x in fruits:\n",
    "  print(x)"
   ]
  },
  {
   "cell_type": "markdown",
   "metadata": {
    "slideshow": {
     "slide_type": "subslide"
    }
   },
   "source": [
    "Selecting the sub-NetworkSet matching scalar parameters can be made as:"
   ]
  },
  {
   "cell_type": "code",
   "execution_count": null,
   "metadata": {
    "slideshow": {
     "slide_type": "-"
    }
   },
   "outputs": [],
   "source": [
    "ns.sel({'a': 1})"
   ]
  },
  {
   "cell_type": "code",
   "execution_count": null,
   "metadata": {
    "slideshow": {
     "slide_type": "skip"
    }
   },
   "outputs": [],
   "source": [
    "ns.sel({'a': 0, 'X': 10})"
   ]
  },
  {
   "cell_type": "markdown",
   "metadata": {
    "slideshow": {
     "slide_type": "subslide"
    }
   },
   "source": [
    "Selecting the sub-NetworkSet matching a range of parameters also works:"
   ]
  },
  {
   "cell_type": "code",
   "execution_count": null,
   "metadata": {
    "slideshow": {
     "slide_type": "-"
    }
   },
   "outputs": [],
   "source": [
    "ns.sel({'a': 0, 'X': [10,20]})"
   ]
  },
  {
   "cell_type": "code",
   "execution_count": null,
   "metadata": {
    "slideshow": {
     "slide_type": "fragment"
    }
   },
   "outputs": [],
   "source": [
    "ns.sel({'a': [0,1], 'X': [10,20]})"
   ]
  },
  {
   "cell_type": "markdown",
   "metadata": {
    "slideshow": {
     "slide_type": "subslide"
    }
   },
   "source": [
    "The various named parameter keys and values of the NetworkSet can be retrieved using the `dims` and `coords` properties: Editing...."
   ]
  },
  {
   "cell_type": "code",
   "execution_count": null,
   "metadata": {
    "slideshow": {
     "slide_type": "-"
    }
   },
   "outputs": [],
   "source": [
    "ns.dims"
   ]
  },
  {
   "cell_type": "code",
   "execution_count": null,
   "metadata": {
    "slideshow": {
     "slide_type": "-"
    }
   },
   "outputs": [],
   "source": [
    "ns.coords"
   ]
  },
  {
   "cell_type": "markdown",
   "metadata": {
    "slideshow": {
     "slide_type": "slide"
    }
   },
   "source": [
    "## Interpolating between the Networks of a NetworkSet\n",
    "It is possible to create new Networks interpolated from the Networks contained in a `NetworkSet`. If no `params` properties have been defined for each Network of the NetworkSet, the `interpolate_from_network()` method can be used to specify a interpolating parameter. "
   ]
  },
  {
   "cell_type": "code",
   "execution_count": null,
   "metadata": {
    "slideshow": {
     "slide_type": "-"
    }
   },
   "outputs": [],
   "source": [
    "param_x = [1, 2, 3, 4, 5]  # a parameter associated to each Network\n",
    "x0 = 2.5  # parameter value to interpolate for\n",
    "interp_ntwk = ro_ns.interpolate_from_network(param_x, x0)\n",
    "print(interp_ntwk)"
   ]
  },
  {
   "cell_type": "markdown",
   "metadata": {
    "slideshow": {
     "slide_type": "fragment"
    }
   },
   "source": [
    "It is also possible to interpolate using a named parameter when they have been defined: "
   ]
  },
  {
   "cell_type": "code",
   "execution_count": null,
   "metadata": {
    "slideshow": {
     "slide_type": "-"
    }
   },
   "outputs": [],
   "source": [
    "# Interpolated Network for a=1.2 within X=10 Networks:\n",
    "ns.interpolate_from_params('a', 1.2, {'X': 10})"
   ]
  },
  {
   "cell_type": "code",
   "execution_count": null,
   "metadata": {},
   "outputs": [],
   "source": [
    "import os \n",
    "def current_path(): \n",
    "    print(\"Current working directory before\") \n",
    "    print(os.getcwd()) \n",
    "    print() \n",
    "current_path() \n",
    "os.chdir('../') \n",
    "current_path() \n"
   ]
  }
 ],
 "metadata": {
  "anaconda-cloud": {},
  "celltoolbar": "Slideshow",
  "kernelspec": {
   "display_name": "Python 3 (ipykernel)",
   "language": "python",
   "name": "python3"
  },
  "language_info": {
   "codemirror_mode": {
    "name": "ipython",
    "version": 3
   },
   "file_extension": ".py",
   "mimetype": "text/x-python",
   "name": "python",
   "nbconvert_exporter": "python",
   "pygments_lexer": "ipython3",
   "version": "3.11.9"
  },
  "rise": {
   "footer": "<h3>  NetworkSet</h3>"
  },
  "toc": {
   "base_numbering": 1,
   "nav_menu": {},
   "number_sections": true,
   "sideBar": true,
   "skip_h1_title": false,
   "title_cell": "Table of Contents",
   "title_sidebar": "Contents",
   "toc_cell": false,
   "toc_position": {},
   "toc_section_display": true,
   "toc_window_display": true
  }
 },
 "nbformat": 4,
 "nbformat_minor": 1
}
